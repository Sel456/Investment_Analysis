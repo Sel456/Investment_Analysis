{
 "cells": [
  {
   "cell_type": "code",
   "execution_count": 1,
   "id": "9ad4d047-aaf0-44e4-bad8-6fc03aae9c48",
   "metadata": {},
   "outputs": [],
   "source": [
    "\n",
    "import numpy as np\n",
    "from datascience import *\n",
    "\n",
    "# These lines do some fancy plotting magic.\n",
    "import matplotlib\n",
    "%matplotlib inline\n",
    "import matplotlib.pyplot as plt\n",
    "plt.style.use('fivethirtyeight')\n",
    "import warnings\n",
    "warnings.simplefilter('ignore', FutureWarning)\n",
    "import pandas as pd\n",
    "from scipy.optimize import minimize"
   ]
  },
  {
   "cell_type": "code",
   "execution_count": 2,
   "id": "c093c508-6fe4-4e1c-94b3-71083aa2a2fa",
   "metadata": {},
   "outputs": [],
   "source": [
    "df = pd.read_csv(\"investment_information.csv\")"
   ]
  },
  {
   "cell_type": "code",
   "execution_count": 3,
   "id": "6474dc01-9102-4e45-be5e-d778351901f2",
   "metadata": {},
   "outputs": [
    {
     "data": {
      "text/html": [
       "<div>\n",
       "<style scoped>\n",
       "    .dataframe tbody tr th:only-of-type {\n",
       "        vertical-align: middle;\n",
       "    }\n",
       "\n",
       "    .dataframe tbody tr th {\n",
       "        vertical-align: top;\n",
       "    }\n",
       "\n",
       "    .dataframe thead th {\n",
       "        text-align: right;\n",
       "    }\n",
       "</style>\n",
       "<table border=\"1\" class=\"dataframe\">\n",
       "  <thead>\n",
       "    <tr style=\"text-align: right;\">\n",
       "      <th></th>\n",
       "      <th>wlmt</th>\n",
       "      <th>amazon</th>\n",
       "      <th>mcrsft</th>\n",
       "      <th>chevron</th>\n",
       "    </tr>\n",
       "  </thead>\n",
       "  <tbody>\n",
       "    <tr>\n",
       "      <th>0</th>\n",
       "      <td>141.789993</td>\n",
       "      <td>84.000000</td>\n",
       "      <td>239.820007</td>\n",
       "      <td>179.490005</td>\n",
       "    </tr>\n",
       "    <tr>\n",
       "      <th>1</th>\n",
       "      <td>143.869995</td>\n",
       "      <td>103.129997</td>\n",
       "      <td>247.809998</td>\n",
       "      <td>174.020004</td>\n",
       "    </tr>\n",
       "    <tr>\n",
       "      <th>2</th>\n",
       "      <td>142.130005</td>\n",
       "      <td>94.230003</td>\n",
       "      <td>249.419998</td>\n",
       "      <td>160.770004</td>\n",
       "    </tr>\n",
       "    <tr>\n",
       "      <th>3</th>\n",
       "      <td>147.449997</td>\n",
       "      <td>103.290001</td>\n",
       "      <td>288.299988</td>\n",
       "      <td>163.160004</td>\n",
       "    </tr>\n",
       "    <tr>\n",
       "      <th>4</th>\n",
       "      <td>150.970001</td>\n",
       "      <td>105.449997</td>\n",
       "      <td>307.260010</td>\n",
       "      <td>168.580002</td>\n",
       "    </tr>\n",
       "    <tr>\n",
       "      <th>5</th>\n",
       "      <td>146.869995</td>\n",
       "      <td>120.580002</td>\n",
       "      <td>328.390015</td>\n",
       "      <td>150.619995</td>\n",
       "    </tr>\n",
       "    <tr>\n",
       "      <th>6</th>\n",
       "      <td>157.179993</td>\n",
       "      <td>130.360001</td>\n",
       "      <td>340.540009</td>\n",
       "      <td>157.350006</td>\n",
       "    </tr>\n",
       "    <tr>\n",
       "      <th>7</th>\n",
       "      <td>159.860001</td>\n",
       "      <td>133.679993</td>\n",
       "      <td>335.920013</td>\n",
       "      <td>163.660004</td>\n",
       "    </tr>\n",
       "    <tr>\n",
       "      <th>8</th>\n",
       "      <td>162.610001</td>\n",
       "      <td>138.009995</td>\n",
       "      <td>327.760010</td>\n",
       "      <td>161.100006</td>\n",
       "    </tr>\n",
       "    <tr>\n",
       "      <th>9</th>\n",
       "      <td>159.929993</td>\n",
       "      <td>127.120003</td>\n",
       "      <td>315.750000</td>\n",
       "      <td>168.619995</td>\n",
       "    </tr>\n",
       "    <tr>\n",
       "      <th>10</th>\n",
       "      <td>163.410004</td>\n",
       "      <td>133.089996</td>\n",
       "      <td>338.109985</td>\n",
       "      <td>145.729996</td>\n",
       "    </tr>\n",
       "    <tr>\n",
       "      <th>11</th>\n",
       "      <td>163.919998</td>\n",
       "      <td>140.600006</td>\n",
       "      <td>360.690002</td>\n",
       "      <td>141.940002</td>\n",
       "    </tr>\n",
       "    <tr>\n",
       "      <th>12</th>\n",
       "      <td>164.675705</td>\n",
       "      <td>140.809906</td>\n",
       "      <td>363.730011</td>\n",
       "      <td>142.460007</td>\n",
       "    </tr>\n",
       "  </tbody>\n",
       "</table>\n",
       "</div>"
      ],
      "text/plain": [
       "          wlmt      amazon      mcrsft     chevron\n",
       "0   141.789993   84.000000  239.820007  179.490005\n",
       "1   143.869995  103.129997  247.809998  174.020004\n",
       "2   142.130005   94.230003  249.419998  160.770004\n",
       "3   147.449997  103.290001  288.299988  163.160004\n",
       "4   150.970001  105.449997  307.260010  168.580002\n",
       "5   146.869995  120.580002  328.390015  150.619995\n",
       "6   157.179993  130.360001  340.540009  157.350006\n",
       "7   159.860001  133.679993  335.920013  163.660004\n",
       "8   162.610001  138.009995  327.760010  161.100006\n",
       "9   159.929993  127.120003  315.750000  168.619995\n",
       "10  163.410004  133.089996  338.109985  145.729996\n",
       "11  163.919998  140.600006  360.690002  141.940002\n",
       "12  164.675705  140.809906  363.730011  142.460007"
      ]
     },
     "execution_count": 3,
     "metadata": {},
     "output_type": "execute_result"
    }
   ],
   "source": [
    "df"
   ]
  },
  {
   "cell_type": "code",
   "execution_count": 18,
   "id": "42486b7e-05e4-49eb-909c-178862f74eec",
   "metadata": {},
   "outputs": [],
   "source": [
    "# month over month returns, correlation, covariance matrix"
   ]
  },
  {
   "cell_type": "code",
   "execution_count": 6,
   "id": "b7c01f0d-83a8-40ea-b0af-3f54a79effbc",
   "metadata": {},
   "outputs": [],
   "source": [
    "def momr(col):\n",
    "    arr_1 = make_array()\n",
    "    k = 0\n",
    "    while k <= (len(col)-2):\n",
    "        val = (col[k+1] - col[k])/col[k]\n",
    "        arr_1 = np.append(arr_1, val)\n",
    "        k += 1\n",
    "    return arr_1"
   ]
  },
  {
   "cell_type": "code",
   "execution_count": 12,
   "id": "be1e72c9-7f3b-451d-9389-9adad4e36f8b",
   "metadata": {},
   "outputs": [],
   "source": [
    "def momr_total(df):\n",
    "    i = 0 \n",
    "    new_data = pd.DataFrame()\n",
    "    col_num = df.shape[1]\n",
    "    while i <= (col_num-1):\n",
    "        example = momr(df.iloc[:, i])\n",
    "        new_data[df.columns[i]] = example\n",
    "        i += 1\n",
    "    return new_data*100, df.corr(), df.cov()"
   ]
  },
  {
   "cell_type": "code",
   "execution_count": 23,
   "id": "812a8599-f677-40c0-a77b-43e9e85268c7",
   "metadata": {},
   "outputs": [
    {
     "data": {
      "text/plain": [
       "(        wlmt     amazon     mcrsft    chevron\n",
       " 0   1.466960  22.773806   3.331662  -3.047524\n",
       " 1  -1.209418  -8.629879   0.649691  -7.614067\n",
       " 2   3.743046   9.614770  15.588161   1.486596\n",
       " 3   2.387253   2.091196   6.576491   3.321891\n",
       " 4  -2.715775  14.348037   6.876913 -10.653700\n",
       " 5   7.019812   8.110797   3.699867   4.468206\n",
       " 6   1.705057   2.546787  -1.356668   4.010167\n",
       " 7   1.720255   3.239080  -2.429151  -1.564217\n",
       " 8  -1.648120  -7.890727  -3.664269   4.667901\n",
       " 9   2.175959   4.696344   7.081547 -13.574902\n",
       " 10  0.312095   5.642806   6.678305  -2.600696\n",
       " 11  0.461022   0.149289   0.842832   0.366355,\n",
       "              wlmt    amazon    mcrsft   chevron\n",
       " wlmt     1.000000  0.939311  0.885850 -0.629537\n",
       " amazon   0.939311  1.000000  0.934842 -0.718798\n",
       " mcrsft   0.885850  0.934842  1.000000 -0.786369\n",
       " chevron -0.629537 -0.718798 -0.786369  1.000000,\n",
       "                wlmt      amazon       mcrsft     chevron\n",
       " wlmt      79.137164  160.582491   333.291731  -66.293215\n",
       " amazon   160.582491  369.315313   759.820642 -163.517163\n",
       " mcrsft   333.291731  759.820642  1788.743093 -393.693353\n",
       " chevron  -66.293215 -163.517163  -393.693353  140.124986)"
      ]
     },
     "execution_count": 23,
     "metadata": {},
     "output_type": "execute_result"
    }
   ],
   "source": [
    "\n",
    "momr_total(df)[0], momr_total(df)[1], momr_total(df)[2]"
   ]
  },
  {
   "cell_type": "code",
   "execution_count": 19,
   "id": "10a8e432-e910-413f-a8ca-52d37529536d",
   "metadata": {},
   "outputs": [],
   "source": [
    "# solving and creating lp model"
   ]
  },
  {
   "cell_type": "code",
   "execution_count": 37,
   "id": "74733e0a-7de0-4e66-851c-fd0f87545f12",
   "metadata": {},
   "outputs": [],
   "source": [
    "def objective_func(x):\n",
    "    return np.dot(np.dot(np.transpose(x),momr_total(df)[2]),x)"
   ]
  },
  {
   "cell_type": "code",
   "execution_count": 38,
   "id": "760aa38f-7f0f-48ab-bd06-c566ae90062d",
   "metadata": {},
   "outputs": [],
   "source": [
    "def constraint_1(x):\n",
    "    return sum(x)-1"
   ]
  },
  {
   "cell_type": "code",
   "execution_count": 39,
   "id": "94b427bd-cea7-45e6-a925-0cbea582929b",
   "metadata": {},
   "outputs": [],
   "source": [
    "def constraint_2(x):\n",
    "    R = [np.mean(momr_total(df)[0].iloc[:, 0]), np.mean(momr_total(df)[0].iloc[:, 1]),\n",
    "        np.mean(momr_total(df)[0].iloc[:, 2]), np.mean(momr_total(df)[0].iloc[:, 3])]\n",
    "    Rm = .05\n",
    "    return np.dot(np.transpose(R), x) - Rm"
   ]
  },
  {
   "cell_type": "code",
   "execution_count": 40,
   "id": "90258036-6692-43bc-8ff0-7f130637e669",
   "metadata": {},
   "outputs": [],
   "source": [
    "b = (0, None)"
   ]
  },
  {
   "cell_type": "code",
   "execution_count": 41,
   "id": "6f73a038-9a27-4338-b43b-39a08d5a1b1c",
   "metadata": {},
   "outputs": [],
   "source": [
    "bnds = (b, b, b, b)"
   ]
  },
  {
   "cell_type": "code",
   "execution_count": 42,
   "id": "07758ad1-825e-4570-81db-095485cd83cc",
   "metadata": {},
   "outputs": [],
   "source": [
    "con1 = {'type':'eq','fun':constraint_1}\n",
    "con2 = {'type':'ineq','fun':constraint_2}\n",
    "cons = [con1, con2]"
   ]
  },
  {
   "cell_type": "code",
   "execution_count": 43,
   "id": "a62897cf-66f9-4d90-a1a3-57ab95e04c43",
   "metadata": {},
   "outputs": [],
   "source": [
    "X = [.1, .3, .2, .4]"
   ]
  },
  {
   "cell_type": "code",
   "execution_count": 44,
   "id": "6947abd4-2c5d-4684-8ad5-7492982941cc",
   "metadata": {},
   "outputs": [],
   "source": [
    "sol = minimize(objective_func, X,  method='SLSQP', bounds=bnds, constraints=cons)"
   ]
  },
  {
   "cell_type": "code",
   "execution_count": 45,
   "id": "a1871dba-83e7-4df9-bde5-e9145e080f21",
   "metadata": {},
   "outputs": [
    {
     "data": {
      "text/plain": [
       "     fun: 19.030278703693906\n",
       "     jac: array([ 39.05545259,  55.47911811,  70.62585402,  36.62818933])\n",
       " message: 'Optimization terminated successfully'\n",
       "    nfev: 20\n",
       "     nit: 4\n",
       "    njev: 4\n",
       "  status: 0\n",
       " success: True\n",
       "       x: array([ 0.59011701,  0.        ,  0.        ,  0.40988299])"
      ]
     },
     "execution_count": 45,
     "metadata": {},
     "output_type": "execute_result"
    }
   ],
   "source": [
    "sol\n"
   ]
  }
 ],
 "metadata": {
  "kernelspec": {
   "display_name": "Python 3 (ipykernel)",
   "language": "python",
   "name": "python3"
  },
  "language_info": {
   "codemirror_mode": {
    "name": "ipython",
    "version": 3
   },
   "file_extension": ".py",
   "mimetype": "text/x-python",
   "name": "python",
   "nbconvert_exporter": "python",
   "pygments_lexer": "ipython3",
   "version": "3.9.12"
  }
 },
 "nbformat": 4,
 "nbformat_minor": 5
}
